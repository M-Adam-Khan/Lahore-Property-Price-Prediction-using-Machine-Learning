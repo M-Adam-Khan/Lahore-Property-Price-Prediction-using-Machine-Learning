{
  "nbformat": 4,
  "nbformat_minor": 0,
  "metadata": {
    "colab": {
      "provenance": []
    },
    "kernelspec": {
      "name": "python3",
      "display_name": "Python 3"
    },
    "language_info": {
      "name": "python"
    }
  },
  "cells": [
    {
      "cell_type": "markdown",
      "source": [
        "# ***WEB-SCRAPPING ***"
      ],
      "metadata": {
        "id": "09J4rVl7r6Hj"
      }
    },
    {
      "cell_type": "markdown",
      "source": [
        "A web-scrapping tutorial that will scrape the data from the zameen.com's website\n",
        "The data will be of the houses listed on the website containing the following attributes:\n",
        "- title\n",
        "- price\n",
        "- location\n",
        "- no.of.beds\n",
        "- no.of.baths\n",
        "- area (kanal,marla)"
      ],
      "metadata": {
        "id": "Qfe6bRYkr_Sf"
      }
    },
    {
      "cell_type": "markdown",
      "source": [
        "# **INSTALLING THE REQUIRED LIBRARIES AND PAKAGES**"
      ],
      "metadata": {
        "id": "rutEBGIirnwn"
      }
    },
    {
      "cell_type": "code",
      "execution_count": null,
      "metadata": {
        "colab": {
          "base_uri": "https://localhost:8080/"
        },
        "id": "HdeDQeXzkAnF",
        "outputId": "d8c74455-f1eb-48b8-aebe-eb326cc14e14"
      },
      "outputs": [
        {
          "output_type": "stream",
          "name": "stdout",
          "text": [
            "Requirement already satisfied: requests in /usr/local/lib/python3.11/dist-packages (2.32.3)\n",
            "Requirement already satisfied: beautifulsoup4 in /usr/local/lib/python3.11/dist-packages (4.13.4)\n",
            "Requirement already satisfied: pandas in /usr/local/lib/python3.11/dist-packages (2.2.2)\n",
            "Requirement already satisfied: charset-normalizer<4,>=2 in /usr/local/lib/python3.11/dist-packages (from requests) (3.4.2)\n",
            "Requirement already satisfied: idna<4,>=2.5 in /usr/local/lib/python3.11/dist-packages (from requests) (3.10)\n",
            "Requirement already satisfied: urllib3<3,>=1.21.1 in /usr/local/lib/python3.11/dist-packages (from requests) (2.4.0)\n",
            "Requirement already satisfied: certifi>=2017.4.17 in /usr/local/lib/python3.11/dist-packages (from requests) (2025.4.26)\n",
            "Requirement already satisfied: soupsieve>1.2 in /usr/local/lib/python3.11/dist-packages (from beautifulsoup4) (2.7)\n",
            "Requirement already satisfied: typing-extensions>=4.0.0 in /usr/local/lib/python3.11/dist-packages (from beautifulsoup4) (4.13.2)\n",
            "Requirement already satisfied: numpy>=1.23.2 in /usr/local/lib/python3.11/dist-packages (from pandas) (2.0.2)\n",
            "Requirement already satisfied: python-dateutil>=2.8.2 in /usr/local/lib/python3.11/dist-packages (from pandas) (2.9.0.post0)\n",
            "Requirement already satisfied: pytz>=2020.1 in /usr/local/lib/python3.11/dist-packages (from pandas) (2025.2)\n",
            "Requirement already satisfied: tzdata>=2022.7 in /usr/local/lib/python3.11/dist-packages (from pandas) (2025.2)\n",
            "Requirement already satisfied: six>=1.5 in /usr/local/lib/python3.11/dist-packages (from python-dateutil>=2.8.2->pandas) (1.17.0)\n"
          ]
        }
      ],
      "source": [
        "!pip install requests beautifulsoup4 pandas\n"
      ]
    },
    {
      "cell_type": "markdown",
      "source": [
        "# **IMPORTING PAKAGES**"
      ],
      "metadata": {
        "id": "kqpp40mhrtrP"
      }
    },
    {
      "cell_type": "code",
      "source": [
        "import requests\n",
        "from bs4 import BeautifulSoup\n",
        "import csv"
      ],
      "metadata": {
        "id": "uDfvRlV6zwm7"
      },
      "execution_count": null,
      "outputs": []
    },
    {
      "cell_type": "code",
      "source": [
        "all_properties = []"
      ],
      "metadata": {
        "id": "0bDhnB_d3MyE"
      },
      "execution_count": null,
      "outputs": []
    },
    {
      "cell_type": "markdown",
      "source": [
        "# **MAIN LOGIC TO SCRAPE THE DATA**"
      ],
      "metadata": {
        "id": "kOrChlh2rx6s"
      }
    },
    {
      "cell_type": "code",
      "source": [
        "for page in range(1, 51):\n",
        "    url = f'https://www.zameen.com/Houses_Property/Lahore-1-1-{page}.html'\n",
        "\n",
        "    headers = {\n",
        "        'User-Agent': 'Mozilla/5.0 (Windows NT 10.0; Win64; x64) AppleWebKit/537.36 (KHTML, like Gecko) Chrome/91.0.4472.124 Safari/537.36',\n",
        "    }\n",
        "\n",
        "    response = requests.get(url, headers=headers)\n",
        "    soup = BeautifulSoup(response.text, 'html.parser')\n",
        "\n",
        "    cards = soup.find_all('article')\n",
        "\n",
        "    for card in cards:\n",
        "        property_data = {}\n",
        "\n",
        "        title_tag = card.find('a', class_='d870ae17')\n",
        "        property_data['Title'] = title_tag.get('title') if title_tag else 'N/A'\n",
        "\n",
        "        price_tag = card.find('span', class_='dc381b54')\n",
        "        property_data['Price'] = price_tag.text.strip() if price_tag else 'N/A'\n",
        "\n",
        "        location_tag = card.find('div', class_='db1aca2f', attrs={'aria-label': 'Location'})\n",
        "        property_data['Location'] = location_tag.text.strip() if location_tag else 'N/A'\n",
        "\n",
        "        bedrooms_tag = card.find('span', class_='_6d9b9b83', attrs={'aria-label': 'Beds'})\n",
        "        property_data['Bedrooms'] = bedrooms_tag.text.strip() if bedrooms_tag else 'N/A'\n",
        "\n",
        "        bathrooms_tag = card.find('span', class_='_6d9b9b83', attrs={'aria-label': 'Baths'})\n",
        "        property_data['Bathrooms'] = bathrooms_tag.text.strip() if bathrooms_tag else 'N/A'\n",
        "\n",
        "        area_tag = None\n",
        "        for span in card.find_all('span'):\n",
        "            text = span.text.strip()\n",
        "            if 'Marla' in text or 'Kanal' in text:\n",
        "                area_tag = span\n",
        "                break\n",
        "        property_data['Area'] = area_tag.text.strip() if area_tag else 'N/A'\n",
        "\n",
        "        all_properties.append(property_data)"
      ],
      "metadata": {
        "id": "Hm0wBuA0qspt"
      },
      "execution_count": null,
      "outputs": []
    },
    {
      "cell_type": "markdown",
      "source": [
        "# **SAVING THE SCRAPED DATA TO CSV**"
      ],
      "metadata": {
        "id": "23KMhPAqr192"
      }
    },
    {
      "cell_type": "code",
      "source": [
        "with open('zameen_houses.csv', mode='w', newline='', encoding='utf-8') as file:\n",
        "    writer = csv.DictWriter(file, fieldnames=['Title', 'Price', 'Location', 'Bedrooms', 'Bathrooms', 'Area'])\n",
        "    writer.writeheader()\n",
        "    writer.writerows(all_properties)\n",
        "\n",
        "print(f\"Data saved to zameen_houses.csv\")"
      ],
      "metadata": {
        "colab": {
          "base_uri": "https://localhost:8080/"
        },
        "id": "EfztSR1mq3Ru",
        "outputId": "f0290e72-4ee9-43ea-f3d2-3ab3efc29f5d"
      },
      "execution_count": null,
      "outputs": [
        {
          "output_type": "stream",
          "name": "stdout",
          "text": [
            "Data saved to zameen_houses.csv\n"
          ]
        }
      ]
    },
    {
      "cell_type": "code",
      "source": [],
      "metadata": {
        "id": "Z44SDd8JrapC"
      },
      "execution_count": null,
      "outputs": []
    }
  ]
}